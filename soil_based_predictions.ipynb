{
  "cells": [
    {
      "cell_type": "code",
      "source": [
        "import pandas as pd\n",
        "from sklearn.preprocessing import LabelEncoder\n",
        "\n",
        "# Load dataset\n",
        "df = pd.read_csv(\"/content/Crop and fertilizer dataset.csv\")\n",
        "\n",
        "# Drop duplicate rows\n",
        "df.drop_duplicates(inplace=True)\n",
        "\n",
        "# Select only numeric columns for calculating the mean\n",
        "numeric_cols = df.select_dtypes(include=['number']).columns\n",
        "\n",
        "# Fill missing values using mean for numeric columns only\n",
        "df[numeric_cols] = df[numeric_cols].fillna(df[numeric_cols].mean())\n",
        "\n",
        "# Encode categorical variables (District_Name, Soil_color, Crop, Fertilizer)\n",
        "label_encoders = {}\n",
        "for col in [\"District_Name\", \"Soil_color\", \"Crop\", \"Fertilizer\"]:\n",
        "    le = LabelEncoder()\n",
        "    df[col] = le.fit_transform(df[col])\n",
        "    label_encoders[col] = le  # Save encoders for decoding predictions later\n",
        "\n",
        "# Show cleaned data\n",
        "print(df.head())"
      ],
      "metadata": {
        "id": "cdp2FCzGaY5v",
        "outputId": "f530597c-1678-49ea-c083-ac9e786c18ca",
        "colab": {
          "base_uri": "https://localhost:8080/"
        }
      },
      "execution_count": null,
      "outputs": [
        {
          "output_type": "stream",
          "name": "stdout",
          "text": [
            "   District_Name  Soil_color  Nitrogen  Phosphorus  Potassium   pH  Rainfall  \\\n",
            "0              0           0        75          50        100  6.5      1000   \n",
            "1              0           0        80          50        100  6.5      1000   \n",
            "2              0           0        85          50        100  6.5      1000   \n",
            "3              0           0        90          50        100  6.5      1000   \n",
            "4              0           0        95          50        100  6.5      1000   \n",
            "\n",
            "   Temperature  Crop  Fertilizer                          Link  \n",
            "0           20    11          17  https://youtu.be/2t5Am0xLTOo  \n",
            "1           20    11          17  https://youtu.be/2t5Am0xLTOo  \n",
            "2           20    11          17  https://youtu.be/2t5Am0xLTOo  \n",
            "3           20    11          17  https://youtu.be/2t5Am0xLTOo  \n",
            "4           20    11          17  https://youtu.be/2t5Am0xLTOo  \n"
          ]
        }
      ]
    },
    {
      "cell_type": "code",
      "source": [
        "from google.colab import drive\n",
        "drive.mount('/content/drive')"
      ],
      "metadata": {
        "id": "6FpYPsoqgJNR"
      },
      "execution_count": null,
      "outputs": []
    },
    {
      "cell_type": "code",
      "source": [
        "from sklearn.model_selection import train_test_split\n",
        "from sklearn.ensemble import RandomForestRegressor\n",
        "from sklearn.metrics import mean_absolute_error\n",
        "\n",
        "# Features & Target\n",
        "X_irrigation = df[['Rainfall', 'Temperature', 'pH']]\n",
        "y_irrigation = df['Rainfall'].shift(-1).fillna(df['Rainfall'].mean())  # Predict next rainfall for irrigation timing\n",
        "\n",
        "# Train-test split\n",
        "X_train, X_test, y_train, y_test = train_test_split(X_irrigation, y_irrigation, test_size=0.2, random_state=42)\n",
        "\n",
        "# Train model\n",
        "irrigation_model = RandomForestRegressor(n_estimators=100)\n",
        "irrigation_model.fit(X_train, y_train)\n",
        "\n",
        "# Evaluate\n",
        "y_pred = irrigation_model.predict(X_test)\n",
        "mae = mean_absolute_error(y_test, y_pred)\n",
        "print(f\"Irrigation Model MAE: {mae:.2f}\")\n"
      ],
      "metadata": {
        "id": "JvMWN6PndE_j",
        "colab": {
          "base_uri": "https://localhost:8080/"
        },
        "outputId": "aa0359b7-e44b-4121-feb2-0261b61a67c5"
      },
      "execution_count": null,
      "outputs": [
        {
          "output_type": "stream",
          "name": "stdout",
          "text": [
            "Irrigation Model MAE: 35.30\n"
          ]
        }
      ]
    },
    {
      "cell_type": "code",
      "source": [
        "from sklearn.ensemble import RandomForestClassifier\n",
        "from sklearn.metrics import accuracy_score\n",
        "\n",
        "# Features & Target\n",
        "X_fertilizer = df[['Nitrogen', 'Phosphorus', 'Potassium', 'pH', 'Soil_color', 'Crop']]\n",
        "y_fertilizer = df['Fertilizer']\n",
        "\n",
        "# Train-test split\n",
        "X_train, X_test, y_train, y_test = train_test_split(X_fertilizer, y_fertilizer, test_size=0.2, random_state=42)\n",
        "\n",
        "# Train model\n",
        "fertilizer_model = RandomForestClassifier(n_estimators=100)\n",
        "fertilizer_model.fit(X_train, y_train)\n",
        "\n",
        "# Evaluate\n",
        "y_pred = fertilizer_model.predict(X_test)\n",
        "accuracy = accuracy_score(y_test, y_pred)\n",
        "print(f\"Fertilizer Model Accuracy: {accuracy * 100:.2f}%\")\n"
      ],
      "metadata": {
        "colab": {
          "base_uri": "https://localhost:8080/"
        },
        "id": "L9u17TXdgjn_",
        "outputId": "070c31b2-18cf-4c43-9edd-71b2b4953c3d"
      },
      "execution_count": null,
      "outputs": [
        {
          "output_type": "stream",
          "name": "stdout",
          "text": [
            "Fertilizer Model Accuracy: 83.83%\n"
          ]
        }
      ]
    },
    {
      "cell_type": "code",
      "source": [
        "# Features & Target\n",
        "X_crop = df[['Nitrogen', 'Phosphorus', 'Potassium', 'pH', 'Rainfall', 'Temperature', 'Soil_color']]\n",
        "y_crop = df['Crop']\n",
        "\n",
        "# Train-test split\n",
        "X_train, X_test, y_train, y_test = train_test_split(X_crop, y_crop, test_size=0.2, random_state=42)\n",
        "\n",
        "# Train model\n",
        "crop_model = RandomForestClassifier(n_estimators=100)\n",
        "crop_model.fit(X_train, y_train)\n",
        "\n",
        "# Evaluate\n",
        "y_pred = crop_model.predict(X_test)\n",
        "accuracy = accuracy_score(y_test, y_pred)\n",
        "print(f\"Crop Model Accuracy: {accuracy * 100:.2f}%\")\n"
      ],
      "metadata": {
        "colab": {
          "base_uri": "https://localhost:8080/"
        },
        "id": "ILAUnfhtgtdo",
        "outputId": "837fd81f-512f-4993-8457-ccbcfeacc0bc"
      },
      "execution_count": null,
      "outputs": [
        {
          "output_type": "stream",
          "name": "stdout",
          "text": [
            "Crop Model Accuracy: 99.56%\n"
          ]
        }
      ]
    },
    {
      "cell_type": "code",
      "source": [
        "import time\n",
        "while True:\n",
        "    print(\"Retraining models...\")\n",
        "\n",
        "    # Retrain models with new data\n",
        "    irrigation_model.fit(X_irrigation, y_irrigation)\n",
        "    fertilizer_model.fit(X_fertilizer, y_fertilizer)\n",
        "    crop_model.fit(X_crop, y_crop)\n",
        "\n",
        "    print(\"Models retrained successfully! Next training in 7 days.\")\n",
        "    time.sleep(7 * 24 * 3600)  # Wait 7 days before next retrain\n"
      ],
      "metadata": {
        "id": "V7EGGhPCg8Jz"
      },
      "execution_count": null,
      "outputs": []
    }
  ],
  "metadata": {
    "colab": {
      "provenance": []
    },
    "kernelspec": {
      "display_name": "Python 3",
      "name": "python3"
    }
  },
  "nbformat": 4,
  "nbformat_minor": 0
}